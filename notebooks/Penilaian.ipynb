{
 "cells": [
  {
   "cell_type": "code",
   "execution_count": 1,
   "metadata": {
    "scrolled": false
   },
   "outputs": [],
   "source": [
    "import pandas as pd\n",
    "import numpy as np\n",
    "from sister.modules.penilaian.models import PenilaianPembelajaran\n",
    "from sister.modules.kurikulum.enums import KompetensiInti\n",
    "pn = PenilaianPembelajaran.objects.get(id=\"46ec09e1-7bb4-4d1d-8546-e39c62ebd78d\")\n",
    "\n",
    "def print_nilai(nilai):\n",
    "    print('Kompetensi:')\n",
    "    print('   ' + str(nilai['kompetensi']))\n",
    "    print('Nilai:')\n",
    "    print('   ' + str(nilai['score']))\n",
    "    print('Predikat')\n",
    "    print('   ' + nilai['predikat']['mutu'] + '  (' + nilai['predikat']['predikat'].title() + ')')\n",
    "    print('Deskripsi:')\n",
    "    print('   ' + nilai['deskripsi'])\n",
    "    print('Rekomendasi:')\n",
    "    print('   ' + nilai['rekomendasi'])\n",
    "    print(pn.nilai_pengetahuan['data'].transpose().to_dict().items())"
   ]
  },
  {
   "cell_type": "code",
   "execution_count": 2,
   "metadata": {},
   "outputs": [
    {
     "name": "stdout",
     "output_type": "stream",
     "text": [
      "Kompetensi:\n",
      "   None\n",
      "Nilai:\n",
      "   0\n",
      "Predikat\n",
      "   U  (Belum Teridentifikasi)\n",
      "Deskripsi:\n",
      "   Ananda masih perlu penilaian.\n",
      "Rekomendasi:\n",
      "   Ananda masih perlu penilaian.\n",
      "dict_items([])\n"
     ]
    }
   ],
   "source": [
    "print_nilai(pn.nilai_spiritual)"
   ]
  },
  {
   "cell_type": "code",
   "execution_count": 3,
   "metadata": {},
   "outputs": [
    {
     "name": "stdout",
     "output_type": "stream",
     "text": [
      "Kompetensi:\n",
      "   None\n",
      "Nilai:\n",
      "   0\n",
      "Predikat\n",
      "   U  (Belum Teridentifikasi)\n",
      "Deskripsi:\n",
      "   Ananda masih perlu penilaian.\n",
      "Rekomendasi:\n",
      "   Ananda masih perlu penilaian.\n",
      "dict_items([])\n"
     ]
    }
   ],
   "source": [
    "print_nilai(pn.nilai_sosial)"
   ]
  },
  {
   "cell_type": "code",
   "execution_count": 4,
   "metadata": {},
   "outputs": [
    {
     "name": "stdout",
     "output_type": "stream",
     "text": [
      "Kompetensi:\n",
      "   Mengingat dan memahami pengetahuan faktual dan konsep Pendidikan Agama Islam\n",
      "Nilai:\n",
      "   0\n",
      "Predikat\n",
      "   U  (Belum Teridentifikasi)\n",
      "Deskripsi:\n",
      "   Ananda masih perlu penilaian.\n",
      "Rekomendasi:\n",
      "   Ananda masih perlu penilaian.\n",
      "dict_items([])\n"
     ]
    }
   ],
   "source": [
    "nilai = pn.nilai_pengetahuan\n",
    "print_nilai(nilai)"
   ]
  },
  {
   "cell_type": "code",
   "execution_count": 5,
   "metadata": {},
   "outputs": [
    {
     "name": "stdout",
     "output_type": "stream",
     "text": [
      "Kompetensi:\n",
      "   Menyajikan pengetahuan dan keterampilan dalam pembelajaran Pendidikan Agama Islam\n",
      "Nilai:\n",
      "   0\n",
      "Predikat\n",
      "   U  (Belum Teridentifikasi)\n",
      "Deskripsi:\n",
      "   Ananda masih perlu penilaian.\n",
      "Rekomendasi:\n",
      "   Ananda masih perlu penilaian.\n",
      "dict_items([])\n"
     ]
    }
   ],
   "source": [
    "print_nilai(pn.nilai_keterampilan)"
   ]
  },
  {
   "cell_type": "code",
   "execution_count": 6,
   "metadata": {},
   "outputs": [
    {
     "data": {
      "text/html": [
       "<div>\n",
       "<style scoped>\n",
       "    .dataframe tbody tr th:only-of-type {\n",
       "        vertical-align: middle;\n",
       "    }\n",
       "\n",
       "    .dataframe tbody tr th {\n",
       "        vertical-align: top;\n",
       "    }\n",
       "\n",
       "    .dataframe thead th {\n",
       "        text-align: right;\n",
       "    }\n",
       "</style>\n",
       "<table border=\"1\" class=\"dataframe\">\n",
       "  <thead>\n",
       "    <tr style=\"text-align: right;\">\n",
       "      <th></th>\n",
       "      <th>id</th>\n",
       "      <th>keyword</th>\n",
       "      <th>tgs</th>\n",
       "      <th>ph</th>\n",
       "      <th>pts</th>\n",
       "      <th>pas</th>\n",
       "      <th>ki</th>\n",
       "      <th>kd</th>\n",
       "      <th>x_tg</th>\n",
       "      <th>x_ph</th>\n",
       "      <th>x_pts</th>\n",
       "      <th>x_pas</th>\n",
       "    </tr>\n",
       "  </thead>\n",
       "  <tbody>\n",
       "  </tbody>\n",
       "</table>\n",
       "</div>"
      ],
      "text/plain": [
       "Empty DataFrame\n",
       "Columns: [id, keyword, tgs, ph, pts, pas, ki, kd, x_tg, x_ph, x_pts, x_pas]\n",
       "Index: []"
      ]
     },
     "execution_count": 6,
     "metadata": {},
     "output_type": "execute_result"
    }
   ],
   "source": [
    "pd.DataFrame(columns=('id', 'keyword', 'tgs', 'ph', 'pts', 'pas',\n",
    "        'ki', 'kd', 'x_tg', 'x_ph', 'x_pts', 'x_pas',))"
   ]
  },
  {
   "cell_type": "code",
   "execution_count": null,
   "metadata": {},
   "outputs": [],
   "source": []
  }
 ],
 "metadata": {
  "kernelspec": {
   "display_name": "Django Shell-Plus",
   "language": "python",
   "name": "django_extensions"
  },
  "language_info": {
   "codemirror_mode": {
    "name": "ipython",
    "version": 3
   },
   "file_extension": ".py",
   "mimetype": "text/x-python",
   "name": "python",
   "nbconvert_exporter": "python",
   "pygments_lexer": "ipython3",
   "version": "3.8.2"
  }
 },
 "nbformat": 4,
 "nbformat_minor": 4
}
