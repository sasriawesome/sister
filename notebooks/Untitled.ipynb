{
 "cells": [
  {
   "cell_type": "code",
   "execution_count": 3,
   "metadata": {
    "scrolled": false
   },
   "outputs": [
    {
     "data": {
      "text/html": [
       "<div>\n",
       "<style scoped>\n",
       "    .dataframe tbody tr th:only-of-type {\n",
       "        vertical-align: middle;\n",
       "    }\n",
       "\n",
       "    .dataframe tbody tr th {\n",
       "        vertical-align: top;\n",
       "    }\n",
       "\n",
       "    .dataframe thead th {\n",
       "        text-align: right;\n",
       "    }\n",
       "</style>\n",
       "<table border=\"1\" class=\"dataframe\">\n",
       "  <thead>\n",
       "    <tr style=\"text-align: right;\">\n",
       "      <th></th>\n",
       "      <th>id</th>\n",
       "      <th>keyword</th>\n",
       "      <th>ki</th>\n",
       "      <th>kd</th>\n",
       "      <th>x_tg</th>\n",
       "      <th>x_ph</th>\n",
       "      <th>x_pts</th>\n",
       "      <th>x_pas</th>\n",
       "      <th>v_tg</th>\n",
       "      <th>v_ph</th>\n",
       "      <th>v_pts</th>\n",
       "      <th>v_pas</th>\n",
       "      <th>total</th>\n",
       "      <th>mutu</th>\n",
       "      <th>predikat</th>\n",
       "      <th>deskripsi</th>\n",
       "    </tr>\n",
       "  </thead>\n",
       "  <tbody>\n",
       "    <tr>\n",
       "      <th>0</th>\n",
       "      <td>5c7b0f4d-c1b7-423d-b67f-9946de370b4b</td>\n",
       "      <td>menjalankan Ibadah</td>\n",
       "      <td>3</td>\n",
       "      <td>1</td>\n",
       "      <td>70</td>\n",
       "      <td>None</td>\n",
       "      <td>None</td>\n",
       "      <td>None</td>\n",
       "      <td>7.0</td>\n",
       "      <td>0</td>\n",
       "      <td>0</td>\n",
       "      <td>0</td>\n",
       "      <td>7.0</td>\n",
       "      <td>E</td>\n",
       "      <td>sangat kurang</td>\n",
       "      <td>sangat kurang dalam menjalankan Ibadah</td>\n",
       "    </tr>\n",
       "  </tbody>\n",
       "</table>\n",
       "</div>"
      ],
      "text/plain": [
       "                                     id             keyword  ki  kd  x_tg  \\\n",
       "0  5c7b0f4d-c1b7-423d-b67f-9946de370b4b  menjalankan Ibadah   3   1    70   \n",
       "\n",
       "   x_ph x_pts x_pas  v_tg  v_ph  v_pts  v_pas  total mutu       predikat  \\\n",
       "0  None  None  None   7.0     0      0      0    7.0    E  sangat kurang   \n",
       "\n",
       "                                deskripsi  \n",
       "0  sangat kurang dalam menjalankan Ibadah  "
      ]
     },
     "execution_count": 3,
     "metadata": {},
     "output_type": "execute_result"
    }
   ],
   "source": [
    "import pandas as pd\n",
    "import numpy as np\n",
    "from sister.modules.penilaian.models import PenilaianPembelajaran\n",
    "from sister.modules.kurikulum.enums import KompetensiInti\n",
    "pn = PenilaianPembelajaran.objects.all()[0]\n",
    "\n",
    "pn.metode.nilai_pengetahuan"
   ]
  },
  {
   "cell_type": "code",
   "execution_count": 2,
   "metadata": {},
   "outputs": [
    {
     "data": {
      "text/html": [
       "<div>\n",
       "<style scoped>\n",
       "    .dataframe tbody tr th:only-of-type {\n",
       "        vertical-align: middle;\n",
       "    }\n",
       "\n",
       "    .dataframe tbody tr th {\n",
       "        vertical-align: top;\n",
       "    }\n",
       "\n",
       "    .dataframe thead th {\n",
       "        text-align: right;\n",
       "    }\n",
       "</style>\n",
       "<table border=\"1\" class=\"dataframe\">\n",
       "  <thead>\n",
       "    <tr style=\"text-align: right;\">\n",
       "      <th></th>\n",
       "      <th>id</th>\n",
       "      <th>keyword</th>\n",
       "      <th>ki</th>\n",
       "      <th>kd</th>\n",
       "      <th>x_tg</th>\n",
       "      <th>x_ph</th>\n",
       "      <th>x_pts</th>\n",
       "      <th>x_pas</th>\n",
       "      <th>v_tg</th>\n",
       "      <th>v_ph</th>\n",
       "      <th>v_pts</th>\n",
       "      <th>v_pas</th>\n",
       "      <th>total</th>\n",
       "      <th>mutu</th>\n",
       "      <th>predikat</th>\n",
       "      <th>deskripsi</th>\n",
       "    </tr>\n",
       "  </thead>\n",
       "  <tbody>\n",
       "  </tbody>\n",
       "</table>\n",
       "</div>"
      ],
      "text/plain": [
       "Empty DataFrame\n",
       "Columns: [id, keyword, ki, kd, x_tg, x_ph, x_pts, x_pas, v_tg, v_ph, v_pts, v_pas, total, mutu, predikat, deskripsi]\n",
       "Index: []"
      ]
     },
     "execution_count": 2,
     "metadata": {},
     "output_type": "execute_result"
    }
   ],
   "source": [
    "pn.metode.nilai_keterampilan"
   ]
  }
 ],
 "metadata": {
  "kernelspec": {
   "display_name": "Django Shell-Plus",
   "language": "python",
   "name": "django_extensions"
  },
  "language_info": {
   "codemirror_mode": {
    "name": "ipython",
    "version": 3
   },
   "file_extension": ".py",
   "mimetype": "text/x-python",
   "name": "python",
   "nbconvert_exporter": "python",
   "pygments_lexer": "ipython3",
   "version": "3.8.2"
  }
 },
 "nbformat": 4,
 "nbformat_minor": 4
}
